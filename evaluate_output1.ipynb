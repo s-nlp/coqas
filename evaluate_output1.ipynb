{
 "cells": [
  {
   "cell_type": "code",
   "execution_count": 27,
   "metadata": {},
   "outputs": [],
   "source": [
    "from __future__ import print_function\n",
    "from math import ceil, floor\n",
    "from os.path import isfile\n",
    "import time\n",
    "import numpy as np\n",
    "import torch.nn as nn\n",
    "from src.classes.report import Report\n",
    "from src.classes.utils import *\n",
    "from src.factories.factory_data_io import DataIOFactory\n",
    "from src.factories.factory_datasets_bank import DatasetsBankFactory\n",
    "from src.factories.factory_evaluator import EvaluatorFactory\n",
    "from src.factories.factory_optimizer import OptimizerFactory\n",
    "from src.factories.factory_tagger import TaggerFactory\n",
    "from src.seq_indexers.seq_indexer_tag import SeqIndexerTag\n",
    "from src.seq_indexers.seq_indexer_word import SeqIndexerWord\n",
    "from src.seq_indexers.seq_indexer_elmo import SeqIndexerElmo\n",
    "from src.seq_indexers.seq_indexer_bert import SeqIndexerBert\n"
   ]
  },
  {
   "cell_type": "code",
   "execution_count": 28,
   "metadata": {},
   "outputs": [
    {
     "name": "stdout",
     "output_type": "stream",
     "text": [
      "/home/vika/targer\n"
     ]
    }
   ],
   "source": [
    "!pwd"
   ]
  },
  {
   "cell_type": "code",
   "execution_count": 29,
   "metadata": {},
   "outputs": [],
   "source": [
    "from src.evaluators.evaluator_base import EvaluatorBase\n",
    "from src.evaluators.evaluator_f1_macro_token_level import EvaluatorF1MacroTokenLevel # choose evaluator type"
   ]
  },
  {
   "cell_type": "markdown",
   "metadata": {},
   "source": [
    "Create dataset bank, to evaluate external result you should only set test sequence."
   ]
  },
  {
   "cell_type": "code",
   "execution_count": 30,
   "metadata": {},
   "outputs": [
    {
     "name": "stdout",
     "output_type": "stream",
     "text": [
      "Loading from /home/vika/targer/data/NER/Varvara_v3/train_pred_full.tsv: 3077 samples, 89350 words.\n",
      "Loading from /home/vika/targer/data/NER/Varvara_v3/dev_pred_full.tsv: 402 samples, 12360 words.\n",
      "Loading from /home/vika/targer/data/NER/Varvara_v3/test_manual_predfull_seq_labelling.tsv: 488 samples, 13736 words.\n",
      "DatasetsBank: len(unique_words_list) = 8799 unique words.\n",
      "DatasetsBank: len(unique_words_list) = 9516 unique words.\n",
      "DatasetsBank: len(unique_words_list) = 10344 unique words.\n"
     ]
    }
   ],
   "source": [
    "from src.classes.datasets_bank import DatasetsBank, DatasetsBankSorted\n",
    "from src.data_io.data_io_connl_ner_2003 import DataIOConnlNer2003\n",
    "\n",
    "data_io = DataIOConnlNer2003()\n",
    "#word_sequences_train, tag_sequences_train = data_io.read_data(fn='/home/vika/targer/data/NER/Varvara_v3/train_pred_full.tsv', verbose=True)\n",
    "#word_sequences_dev, tag_sequences_dev = data_io.read_data(fn='/home/vika/targer/data/NER/Varvara_v3/dev_pred_full.tsv', verbose=True)\n",
    "word_sequences_test, tag_sequences_test = data_io.read_data(fn='/home/vika/targer/data/NER/Varvara_v3/test_manual_predfull_seq_labelling.tsv', verbose=True)\n",
    "\n",
    "datasets_bank = DatasetsBank(verbose=True)\n",
    "\n",
    "#datasets_bank.add_train_sequences(word_sequences_train, tag_sequences_train)\n",
    "#datasets_bank.add_dev_sequences(word_sequences_dev, tag_sequences_dev)\n",
    "datasets_bank.add_test_sequences(word_sequences_test, tag_sequences_test)"
   ]
  },
  {
   "cell_type": "code",
   "execution_count": 31,
   "metadata": {},
   "outputs": [],
   "source": [
    "word_sequences=datasets_bank.word_sequences_test\n",
    "targets_tag_sequences=datasets_bank.tag_sequences_test"
   ]
  },
  {
   "cell_type": "code",
   "execution_count": 33,
   "metadata": {},
   "outputs": [],
   "source": [
    "with open('labels_v3_predful_manual.txt') as lines:\n",
    "    outputs_tag_sequences = []\n",
    "    for line in lines:\n",
    "        outputs_tag_sequences.append(line.strip().split(', '))"
   ]
  },
  {
   "cell_type": "code",
   "execution_count": 34,
   "metadata": {},
   "outputs": [],
   "source": [
    "## if extra tag_sequence have the differents labels than test\n",
    "\n",
    "new_ts = []\n",
    "for line in tag_sequences_test:\n",
    "    for ind, elem in enumerate(line):\n",
    "        if (elem == 'NONE'):\n",
    "            line[ind] = 'O'\n",
    "    new_ts.append(line)\n",
    "tag_sequences_test=new_ts"
   ]
  },
  {
   "cell_type": "code",
   "execution_count": 36,
   "metadata": {},
   "outputs": [
    {
     "data": {
      "text/plain": [
       "['B-OBJ',\n",
       " 'O',\n",
       " 'O',\n",
       " 'B-PREDFULL',\n",
       " 'O',\n",
       " 'O',\n",
       " 'O',\n",
       " 'O',\n",
       " 'B-OBJ',\n",
       " 'O',\n",
       " 'O',\n",
       " 'O',\n",
       " 'O',\n",
       " 'O']"
      ]
     },
     "execution_count": 36,
     "metadata": {},
     "output_type": "execute_result"
    }
   ],
   "source": [
    "tag_sequences_test[15]"
   ]
  },
  {
   "cell_type": "code",
   "execution_count": 37,
   "metadata": {},
   "outputs": [
    {
     "data": {
      "text/plain": [
       "['O', 'O', 'O', 'B-PREDFULL', 'O', 'O', 'O', 'O', 'O', 'O', 'O', 'O', 'O', 'O']"
      ]
     },
     "execution_count": 37,
     "metadata": {},
     "output_type": "execute_result"
    }
   ],
   "source": [
    "outputs_tag_sequences[15]"
   ]
  },
  {
   "cell_type": "code",
   "execution_count": 38,
   "metadata": {},
   "outputs": [
    {
     "name": "stdout",
     "output_type": "stream",
     "text": [
      "['O', 'O', 'O', 'O', 'B-OBJ', 'O', 'B-PREDFULL', 'I-PREDFULL', 'O', 'B-OBJ', 'O', 'O', 'O', 'O', 'O', 'O', 'O', 'O', 'O', 'O', 'O', 'O', 'O', 'O', 'O', 'O', 'O']\n",
      "['O', 'O', 'O', 'O', 'O', 'O', 'O', 'O', 'O', 'O', 'O', 'O', 'O', 'O', 'O', 'O', 'O', 'O', 'O', 'O', 'O', 'O', 'O', 'O', 'O', 'O', 'O']\n",
      "['O', 'O', 'B-OBJ', 'O', 'B-PREDFULL', 'I-PREDFULL', 'I-PREDFULL', 'I-PREDFULL', 'O', 'B-OBJ', 'O', 'O', 'O', 'O', 'O', 'B-PREDFULL', 'I-PREDFULL', 'I-PREDFULL', 'I-PREDFULL', 'I-PREDFULL', 'O', 'B-OBJ', 'O']\n",
      "['O', 'O', 'O', 'O', 'O', 'O', 'O', 'O', 'O', 'O', 'O', 'O', 'O', 'O', 'O', 'O', 'O', 'O', 'O', 'O', 'O', 'O', 'O']\n",
      "['O', 'O', 'B-OBJ', 'O', 'O', 'O', 'O', 'O', 'O', 'O', 'B-PREDFULL', 'O', 'B-OBJ', 'I-OBJ', 'O']\n",
      "['O', 'O', 'O', 'O', 'O', 'O', 'O', 'O', 'O', 'O', 'O', 'O', 'O', 'B-OBJ', 'O']\n",
      "['O', 'O', 'O', 'O', 'O', 'O', 'O', 'O', 'O', 'O', 'O', 'B-OBJ', 'O', 'B-PREDFULL', 'I-PREDFULL', 'I-PREDFULL', 'O', 'B-OBJ', 'O', 'O', 'O', 'O', 'O', 'O', 'O', 'O', 'O', 'O', 'O', 'O', 'O']\n",
      "['O', 'O', 'O', 'O', 'O', 'O', 'O', 'O', 'O', 'O', 'O', 'O', 'O', 'O', 'O', 'O', 'O', 'O', 'O', 'O', 'O', 'O', 'O', 'O', 'O', 'O', 'O', 'O', 'O', 'O', 'O']\n",
      "\n",
      "F1 scores\n",
      "------------------------\n",
      "          B-OBJ = f1 = 37.71, precision = 57.03, recall = 28.17\n",
      "     B-PREDFULL = f1 = 47.66, precision = 74.18, recall = 35.11\n",
      "          I-OBJ = f1 = 0.00, precision = 0.00, recall = 0.00\n",
      "     I-PREDFULL = f1 = 33.97, precision = 87.70, recall = 21.06\n",
      "              O = f1 = 91.21, precision = 85.45, recall = 97.80\n",
      "------------------------\n",
      "Macro-F1 = 42.110Macro-Prescion = 60.871Macro-Recall = 36.429\n"
     ]
    },
    {
     "data": {
      "text/plain": [
       "(42.10951606537835,\n",
       " '\\nF1 scores\\n------------------------\\n          B-OBJ = f1 = 37.71, precision = 57.03, recall = 28.17\\n     B-PREDFULL = f1 = 47.66, precision = 74.18, recall = 35.11\\n          I-OBJ = f1 = 0.00, precision = 0.00, recall = 0.00\\n     I-PREDFULL = f1 = 33.97, precision = 87.70, recall = 21.06\\n              O = f1 = 91.21, precision = 85.45, recall = 97.80\\n------------------------\\nMacro-F1 = 42.110Macro-Prescion = 60.871Macro-Recall = 36.429')"
      ]
     },
     "execution_count": 38,
     "metadata": {},
     "output_type": "execute_result"
    }
   ],
   "source": [
    "\n",
    "\n",
    "evaluator = EvaluatorF1MacroTokenLevel()\n",
    "evaluator.get_evaluation_score(tag_sequences_test, outputs_tag_sequences, word_sequences)"
   ]
  },
  {
   "cell_type": "code",
   "execution_count": null,
   "metadata": {},
   "outputs": [],
   "source": []
  }
 ],
 "metadata": {
  "kernelspec": {
   "display_name": "Python 3",
   "language": "python",
   "name": "python3"
  },
  "language_info": {
   "codemirror_mode": {
    "name": "ipython",
    "version": 3
   },
   "file_extension": ".py",
   "mimetype": "text/x-python",
   "name": "python",
   "nbconvert_exporter": "python",
   "pygments_lexer": "ipython3",
   "version": "3.7.4"
  }
 },
 "nbformat": 4,
 "nbformat_minor": 4
}
